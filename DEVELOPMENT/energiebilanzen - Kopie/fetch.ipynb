{
 "metadata": {
  "language_info": {
   "codemirror_mode": {
    "name": "ipython",
    "version": 3
   },
   "file_extension": ".py",
   "mimetype": "text/x-python",
   "name": "python",
   "nbconvert_exporter": "python",
   "pygments_lexer": "ipython3",
   "version": "3.7.6-final"
  },
  "orig_nbformat": 2,
  "kernelspec": {
   "name": "python3",
   "display_name": "Python 3"
  }
 },
 "nbformat": 4,
 "nbformat_minor": 2,
 "cells": [
  {
   "cell_type": "code",
   "execution_count": 2,
   "metadata": {},
   "outputs": [],
   "source": [
    "from pathlib import Path\n",
    "import pandas as pd\n",
    "import pickle"
   ]
  },
  {
   "cell_type": "code",
   "execution_count": 3,
   "metadata": {},
   "outputs": [],
   "source": [
    "eev_df = Path(\"D:/_WORK/AEA/Projekte/bilanzen_monitor/enerbal/src/files/energiebilanzen/pickles/eev_df.p\")"
   ]
  },
  {
   "cell_type": "code",
   "execution_count": 4,
   "metadata": {},
   "outputs": [],
   "source": [
    "dfs = pd.read_excel(\n",
    "    io=str(eev_indices_file), sheet_name=None, na_filter=False, header=None\n",
    ")"
   ]
  },
  {
   "cell_type": "code",
   "execution_count": 6,
   "metadata": {},
   "outputs": [],
   "source": [
    "pickle.dump(dfs, open(\"indices.p\", \"wb\"))"
   ]
  },
  {
   "cell_type": "code",
   "execution_count": 5,
   "metadata": {},
   "outputs": [
    {
     "output_type": "execute_result",
     "data": {
      "text/plain": "                                   0             1       2       3       4\n0    Inländ. Erzeugung v. Rohenergie        Gesamt  Gesamt  Gesamt  Gesamt\n1                            Importe        Gesamt  Gesamt  Gesamt  Gesamt\n2                              Lager        Gesamt  Gesamt  Gesamt  Gesamt\n3             Recycling/Prod. Trans.        Gesamt  Gesamt  Gesamt  Gesamt\n4                            Exporte        Gesamt  Gesamt  Gesamt  Gesamt\n..                               ...           ...     ...     ...     ...\n185               Umwandlungsausstoß  Gaserzeugung  Gesamt  Gesamt  Gesamt\n186    Verbrauch des Sektors Energie        Gesamt  Gesamt  Gesamt  Gesamt\n187                Transportverluste        Gesamt  Gesamt  Gesamt  Gesamt\n188     Nichtenergetischer Verbrauch        Gesamt  Gesamt  Gesamt  Gesamt\n189       Energetischer Endverbrauch        Gesamt  Gesamt  Gesamt  Gesamt\n\n[190 rows x 5 columns]",
      "text/html": "<div>\n<style scoped>\n    .dataframe tbody tr th:only-of-type {\n        vertical-align: middle;\n    }\n\n    .dataframe tbody tr th {\n        vertical-align: top;\n    }\n\n    .dataframe thead th {\n        text-align: right;\n    }\n</style>\n<table border=\"1\" class=\"dataframe\">\n  <thead>\n    <tr style=\"text-align: right;\">\n      <th></th>\n      <th>0</th>\n      <th>1</th>\n      <th>2</th>\n      <th>3</th>\n      <th>4</th>\n    </tr>\n  </thead>\n  <tbody>\n    <tr>\n      <th>0</th>\n      <td>Inländ. Erzeugung v. Rohenergie</td>\n      <td>Gesamt</td>\n      <td>Gesamt</td>\n      <td>Gesamt</td>\n      <td>Gesamt</td>\n    </tr>\n    <tr>\n      <th>1</th>\n      <td>Importe</td>\n      <td>Gesamt</td>\n      <td>Gesamt</td>\n      <td>Gesamt</td>\n      <td>Gesamt</td>\n    </tr>\n    <tr>\n      <th>2</th>\n      <td>Lager</td>\n      <td>Gesamt</td>\n      <td>Gesamt</td>\n      <td>Gesamt</td>\n      <td>Gesamt</td>\n    </tr>\n    <tr>\n      <th>3</th>\n      <td>Recycling/Prod. Trans.</td>\n      <td>Gesamt</td>\n      <td>Gesamt</td>\n      <td>Gesamt</td>\n      <td>Gesamt</td>\n    </tr>\n    <tr>\n      <th>4</th>\n      <td>Exporte</td>\n      <td>Gesamt</td>\n      <td>Gesamt</td>\n      <td>Gesamt</td>\n      <td>Gesamt</td>\n    </tr>\n    <tr>\n      <th>...</th>\n      <td>...</td>\n      <td>...</td>\n      <td>...</td>\n      <td>...</td>\n      <td>...</td>\n    </tr>\n    <tr>\n      <th>185</th>\n      <td>Umwandlungsausstoß</td>\n      <td>Gaserzeugung</td>\n      <td>Gesamt</td>\n      <td>Gesamt</td>\n      <td>Gesamt</td>\n    </tr>\n    <tr>\n      <th>186</th>\n      <td>Verbrauch des Sektors Energie</td>\n      <td>Gesamt</td>\n      <td>Gesamt</td>\n      <td>Gesamt</td>\n      <td>Gesamt</td>\n    </tr>\n    <tr>\n      <th>187</th>\n      <td>Transportverluste</td>\n      <td>Gesamt</td>\n      <td>Gesamt</td>\n      <td>Gesamt</td>\n      <td>Gesamt</td>\n    </tr>\n    <tr>\n      <th>188</th>\n      <td>Nichtenergetischer Verbrauch</td>\n      <td>Gesamt</td>\n      <td>Gesamt</td>\n      <td>Gesamt</td>\n      <td>Gesamt</td>\n    </tr>\n    <tr>\n      <th>189</th>\n      <td>Energetischer Endverbrauch</td>\n      <td>Gesamt</td>\n      <td>Gesamt</td>\n      <td>Gesamt</td>\n      <td>Gesamt</td>\n    </tr>\n  </tbody>\n</table>\n<p>190 rows × 5 columns</p>\n</div>"
     },
     "metadata": {},
     "execution_count": 5
    }
   ],
   "source": [
    "dfs[\"MIDX_EEV\"]"
   ]
  },
  {
   "cell_type": "code",
   "execution_count": null,
   "metadata": {},
   "outputs": [],
   "source": []
  }
 ]
}