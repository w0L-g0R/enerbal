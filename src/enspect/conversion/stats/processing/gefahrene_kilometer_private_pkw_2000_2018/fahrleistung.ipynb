{
 "cells": [
  {
   "cell_type": "code",
   "execution_count": 1,
   "metadata": {},
   "outputs": [],
   "source": [
    "from pathlib import Path\n",
    "import pandas as pd\n",
    "import pickle\n",
    "import xlwings as xw\n",
    "from pandas import IndexSlice as IDX\n",
    "pd.set_option('display.max_rows', 500)\n",
    "pd.set_option('display.max_columns', 500)\n",
    "pd.set_option('display.width', 1000)"
   ]
  },
  {
   "cell_type": "code",
   "execution_count": 10,
   "metadata": {
    "scrolled": false
   },
   "outputs": [],
   "source": [
    "file = Path(\"C:/Code/balplot/enerbal/src/files/stats/processing/gefahrene_kilometer_private_pkw_2000_2018/fahrleistungen_privater_pkw.xlsx\")\n",
    "\n",
    "sheet_names = [\n",
    "    \"Österreich\",\n",
    "    \"Burgenland\",\n",
    "    \"Kärnten\", \n",
    "    \"Niederösterreich\",\n",
    "    \"Oberösterreich\", \n",
    "    \"Salzburg\", \n",
    "    \"Steiermark\", \n",
    "    \"Tirol\", \n",
    "    \"Vorarlberg\", \n",
    "    \"Wien\"\n",
    "]\n",
    "dfs = {}\n",
    "\n",
    "for sheet_name in sheet_names:\n",
    "    dfs[sheet_name] = pd.read_excel(file, sheet_name=sheet_name)"
   ]
  },
  {
   "cell_type": "code",
   "execution_count": 11,
   "metadata": {
    "tags": []
   },
   "outputs": [
    {
     "output_type": "stream",
     "name": "stdout",
     "text": "[1999, 2000, 2003, 2004, 2005, 2006, 2007, 2008, 2009, 2010, 2011, 2012, 2013, 2014, 2015, 2016, 2017, 2018]\n"
    }
   ],
   "source": [
    "index = [1999, 2000]\n",
    "index.extend(list(range(2003,2019)))\n",
    "print(index)\n",
    "df_output = pd.DataFrame(index=index, columns=sheet_names)\n",
    "\n",
    "for enum,sheet_name in enumerate(sheet_names):\n",
    "    \n",
    "    df = dfs[sheet_name].iloc[:,:4]\n",
    "    df.set_index(df.columns[0], inplace=True)\n",
    "    # df.reset_index(inplace=True, drop=True)\n",
    "    df = df[df.index.notnull()]\n",
    "    \n",
    "    i = []\n",
    "    for idx in df[df.index.str.startswith(\"Q\")].index:\n",
    "        i.append(df.index.get_loc(idx))\n",
    "\n",
    "    p=[]\n",
    "    for idx in i:\n",
    "        if idx == i[-1] or idx == i[-2]:\n",
    "            x = 2\n",
    "        else:\n",
    "            x = 1\n",
    "\n",
    "        g = df.iloc[idx-1, :]\n",
    "\n",
    "        if g.name == \"Zusammen\":\n",
    "            p.append(g.iloc[x])\n",
    "        else:\n",
    "            raise Error\n",
    "    l = 0\n",
    "    for e, v in enumerate(p):\n",
    "        h = (e+1)*2-1\n",
    "        r = e+1\n",
    "        try:\n",
    "            df_output.iloc[h,enum] = v / 2            \n",
    "            df_output.iloc[h-1,enum] = v / 2\n",
    "        except:\n",
    "            pass\n",
    "\n",
    "d = {\n",
    "    \"name\" : \"Energieeinsatz der Haushalte (Mikrozensus 1999/2000) - Fahrleistungen und Treibstoffeinsatz privater Pkw\",\n",
    "    \"df\" : df_output,\n",
    "    \"source\" : \"Q: STATISTIK AUSTRIA, Energiestatistik: Mikrozensus Energieeinsatz der Haushalte 1999/2000. Erstellt am 30.03.2007.\"\n",
    "    }"
   ]
  },
  {
   "cell_type": "code",
   "execution_count": null,
   "metadata": {},
   "outputs": [],
   "source": []
  },
  {
   "cell_type": "code",
   "execution_count": 4,
   "metadata": {},
   "outputs": [
    {
     "output_type": "error",
     "ename": "NameError",
     "evalue": "name 'out' is not defined",
     "traceback": [
      "\u001b[1;31m---------------------------------------------------------------------------\u001b[0m",
      "\u001b[1;31mNameError\u001b[0m                                 Traceback (most recent call last)",
      "\u001b[1;32m<ipython-input-4-74e07c5bb75b>\u001b[0m in \u001b[0;36m<module>\u001b[1;34m\u001b[0m\n\u001b[1;32m----> 1\u001b[1;33m \u001b[0mwb\u001b[0m \u001b[1;33m=\u001b[0m \u001b[0mxw\u001b[0m\u001b[1;33m.\u001b[0m\u001b[0mBook\u001b[0m\u001b[1;33m(\u001b[0m\u001b[0mout\u001b[0m\u001b[1;33m)\u001b[0m\u001b[1;33m\u001b[0m\u001b[1;33m\u001b[0m\u001b[0m\n\u001b[0m\u001b[0;32m      2\u001b[0m \u001b[1;32mfor\u001b[0m \u001b[0met\u001b[0m \u001b[1;32min\u001b[0m \u001b[0m_energy_sources\u001b[0m\u001b[1;33m:\u001b[0m\u001b[1;33m\u001b[0m\u001b[1;33m\u001b[0m\u001b[0m\n\u001b[0;32m      3\u001b[0m     \u001b[1;32mtry\u001b[0m\u001b[1;33m:\u001b[0m\u001b[1;33m\u001b[0m\u001b[1;33m\u001b[0m\u001b[0m\n\u001b[0;32m      4\u001b[0m         \u001b[0mwb\u001b[0m\u001b[1;33m.\u001b[0m\u001b[0msheets\u001b[0m\u001b[1;33m.\u001b[0m\u001b[0madd\u001b[0m\u001b[1;33m(\u001b[0m\u001b[0met\u001b[0m\u001b[1;33m)\u001b[0m\u001b[1;33m\u001b[0m\u001b[1;33m\u001b[0m\u001b[0m\n\u001b[0;32m      5\u001b[0m     \u001b[1;32mexcept\u001b[0m\u001b[1;33m:\u001b[0m\u001b[1;33m\u001b[0m\u001b[1;33m\u001b[0m\u001b[0m\n",
      "\u001b[1;31mNameError\u001b[0m: name 'out' is not defined"
     ]
    }
   ],
   "source": [
    "wb = xw.Book()\n",
    "for et in _energy_sources:\n",
    "    try:\n",
    "        wb.sheets.add(et)\n",
    "    except:\n",
    "        pass\n",
    "    ws = wb.sheets[et]\n",
    "    ws.range(\"A1\").value = et + \"-\" + _field\n",
    "    ws.range('A1').api.Font.Bold = True\n",
    "    ws.range(\"A2\").value = \"TWh\"\n",
    "    ws.range(\"A3\").value = df_tj\n",
    "    \n",
    "    chart = ws.charts.add()\n",
    "    chart.width = 500\n",
    "    chart.height = 300\n",
    "\n",
    "    chart.set_source_data(ws.range('B3').expand())\n",
    "    chart.chart_type = 'column_stacked'    \n",
    "\n",
    "    chart.api[1].SetElement(2)  # Place chart title at the top\n",
    "    chart.api[1].SeriesCollection(1).XValues = _years\n",
    "\n",
    "    for enum,x in enumerate(_provinces):\n",
    "        chart.api[1].SeriesCollection(enum+1).Format.Fill.ForeColor.RGB = 22     \n",
    "#         chart.api[1].SeriesCollection(enum+1).HasDataLabels = True\n",
    "\n",
    "    chart.api[1].Axes(1).HasTitle = True # Change text of the chart title    \n",
    "    chart.api[1].Axes(2).HasTitle = True # Change text of the chart title\n",
    "    chart.api[1].Axes(2).AxisTitle.Text = \"TJ\" # Change text of the chart title\n",
    "    chart.api[1].Axes(1).AxisTitle.Text =  \"Years\" # Change text of the chart title\n",
    "    chart.api[1].Axes(1).AxisTitle.Font.Bold = False # Change text of the chart title\n",
    "    chart.api[1].Axes(2).AxisTitle.Font.Bold = False # Change text of the chart title    \n",
    "    chart.api[1].Axes(1).AxisTitle.Font.Bold = False # Change text of the chart title\n",
    "    chart.api[1].Axes(1).TickLabels.Orientation = 90 \n",
    "    chart.api[1].SetElement(2)  # Place chart title at the top\n",
    "    chart.api[1].ChartTitle.Text = 'Feb sales' "
   ]
  },
  {
   "cell_type": "code",
   "execution_count": 146,
   "metadata": {},
   "outputs": [],
   "source": [
    "pickle.dump(d, open(\"fahrleistung.pkl\", \"wb\"))"
   ]
  }
 ],
 "metadata": {
  "kernelspec": {
   "display_name": "Python 3",
   "language": "python",
   "name": "python3"
  },
  "language_info": {
   "codemirror_mode": {
    "name": "ipython",
    "version": 3
   },
   "file_extension": ".py",
   "mimetype": "text/x-python",
   "name": "python",
   "nbconvert_exporter": "python",
   "pygments_lexer": "ipython3",
   "version": "3.7.6-final"
  }
 },
 "nbformat": 4,
 "nbformat_minor": 4
}