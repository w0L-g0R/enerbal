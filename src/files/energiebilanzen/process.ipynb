{
 "metadata": {
  "language_info": {
   "codemirror_mode": {
    "name": "ipython",
    "version": 3
   },
   "file_extension": ".py",
   "mimetype": "text/x-python",
   "name": "python",
   "nbconvert_exporter": "python",
   "pygments_lexer": "ipython3",
   "version": "3.7.6-final"
  },
  "orig_nbformat": 2,
  "kernelspec": {
   "name": "python3",
   "display_name": "Python 3"
  }
 },
 "nbformat": 4,
 "nbformat_minor": 2,
 "cells": [
  {
   "cell_type": "code",
   "execution_count": 1,
   "metadata": {},
   "outputs": [],
   "source": [
    "from pathlib import Path\n",
    "import pandas as pd\n",
    "import pickle\n",
    "IDX = pd.IndexSlice"
   ]
  },
  {
   "cell_type": "code",
   "execution_count": 2,
   "metadata": {},
   "outputs": [],
   "source": [
    "eev_file = Path(\"D:/_WORK/AEA/Projekte/bilanzen_monitor/enerbal/src/files/energiebilanzen/pickles/eev_df.p\")\n"
   ]
  },
  {
   "cell_type": "code",
   "execution_count": 3,
   "metadata": {},
   "outputs": [],
   "source": [
    "eev_data = pickle.load(\n",
    "    open(eev_file, \"rb\"))"
   ]
  },
  {
   "cell_type": "code",
   "execution_count": 4,
   "metadata": {},
   "outputs": [],
   "source": [
    "_provinces = [\"Ktn\", \"Wie\"]\n",
    "_energy_sources = [\"Gesamtenergiebilanz\"]\n",
    "_years=[1999,2000,2001]"
   ]
  },
  {
   "cell_type": "code",
   "execution_count": 5,
   "metadata": {},
   "outputs": [],
   "source": [
    "data_1 = eev_data.loc[\n",
    "    IDX[:, :, :, :, :], IDX[_provinces, _energy_sources, _years]\n",
    "]"
   ]
  },
  {
   "cell_type": "code",
   "execution_count": 6,
   "metadata": {},
   "outputs": [
    {
     "output_type": "execute_result",
     "data": {
      "text/plain": "BL                                                                                Ktn  \\\nET                                                                Gesamtenergiebilanz   \nYEAR                                                                             1999   \nIDX_0                           IDX_1        IDX_2  IDX_3  IDX_4                        \nInländ. Erzeugung v. Rohenergie Gesamt       Gesamt Gesamt Gesamt            33727.65   \nImporte                         Gesamt       Gesamt Gesamt Gesamt            64661.59   \nLager                           Gesamt       Gesamt Gesamt Gesamt               90.35   \nRecycling/Prod. Trans.          Gesamt       Gesamt Gesamt Gesamt                0.00   \nExporte                         Gesamt       Gesamt Gesamt Gesamt            19552.95   \n...                                                                               ...   \nUmwandlungsausstoß              Gaserzeugung Gesamt Gesamt Gesamt                 NaN   \nVerbrauch des Sektors Energie   Gesamt       Gesamt Gesamt Gesamt             1475.05   \nTransportverluste               Gesamt       Gesamt Gesamt Gesamt             1387.20   \nNichtenergetischer Verbrauch    Gesamt       Gesamt Gesamt Gesamt             3462.13   \nEnergetischer Endverbrauch      Gesamt       Gesamt Gesamt Gesamt            69955.46   \n\nBL                                                                           \\\nET                                                                            \nYEAR                                                                   2000   \nIDX_0                           IDX_1        IDX_2  IDX_3  IDX_4              \nInländ. Erzeugung v. Rohenergie Gesamt       Gesamt Gesamt Gesamt  32682.12   \nImporte                         Gesamt       Gesamt Gesamt Gesamt  63599.76   \nLager                           Gesamt       Gesamt Gesamt Gesamt   2328.84   \nRecycling/Prod. Trans.          Gesamt       Gesamt Gesamt Gesamt      0.00   \nExporte                         Gesamt       Gesamt Gesamt Gesamt  20479.86   \n...                                                                     ...   \nUmwandlungsausstoß              Gaserzeugung Gesamt Gesamt Gesamt       NaN   \nVerbrauch des Sektors Energie   Gesamt       Gesamt Gesamt Gesamt    685.26   \nTransportverluste               Gesamt       Gesamt Gesamt Gesamt   1353.54   \nNichtenergetischer Verbrauch    Gesamt       Gesamt Gesamt Gesamt   3834.01   \nEnergetischer Endverbrauch      Gesamt       Gesamt Gesamt Gesamt  68768.68   \n\nBL                                                                           \\\nET                                                                            \nYEAR                                                                   2001   \nIDX_0                           IDX_1        IDX_2  IDX_3  IDX_4              \nInländ. Erzeugung v. Rohenergie Gesamt       Gesamt Gesamt Gesamt  35490.00   \nImporte                         Gesamt       Gesamt Gesamt Gesamt  68578.97   \nLager                           Gesamt       Gesamt Gesamt Gesamt    414.10   \nRecycling/Prod. Trans.          Gesamt       Gesamt Gesamt Gesamt      0.00   \nExporte                         Gesamt       Gesamt Gesamt Gesamt  20808.66   \n...                                                                     ...   \nUmwandlungsausstoß              Gaserzeugung Gesamt Gesamt Gesamt       NaN   \nVerbrauch des Sektors Energie   Gesamt       Gesamt Gesamt Gesamt    546.83   \nTransportverluste               Gesamt       Gesamt Gesamt Gesamt   1308.63   \nNichtenergetischer Verbrauch    Gesamt       Gesamt Gesamt Gesamt   3673.38   \nEnergetischer Endverbrauch      Gesamt       Gesamt Gesamt Gesamt  74842.33   \n\nBL                                                                                Wie  \\\nET                                                                Gesamtenergiebilanz   \nYEAR                                                                             1999   \nIDX_0                           IDX_1        IDX_2  IDX_3  IDX_4                        \nInländ. Erzeugung v. Rohenergie Gesamt       Gesamt Gesamt Gesamt            11553.41   \nImporte                         Gesamt       Gesamt Gesamt Gesamt           168575.18   \nLager                           Gesamt       Gesamt Gesamt Gesamt             -856.64   \nRecycling/Prod. Trans.          Gesamt       Gesamt Gesamt Gesamt                0.00   \nExporte                         Gesamt       Gesamt Gesamt Gesamt            29792.34   \n...                                                                               ...   \nUmwandlungsausstoß              Gaserzeugung Gesamt Gesamt Gesamt                 NaN   \nVerbrauch des Sektors Energie   Gesamt       Gesamt Gesamt Gesamt             2043.31   \nTransportverluste               Gesamt       Gesamt Gesamt Gesamt             3920.30   \nNichtenergetischer Verbrauch    Gesamt       Gesamt Gesamt Gesamt              189.02   \nEnergetischer Endverbrauch      Gesamt       Gesamt Gesamt Gesamt           123633.70   \n\nBL                                                                            \\\nET                                                                             \nYEAR                                                                    2000   \nIDX_0                           IDX_1        IDX_2  IDX_3  IDX_4               \nInländ. Erzeugung v. Rohenergie Gesamt       Gesamt Gesamt Gesamt   11324.93   \nImporte                         Gesamt       Gesamt Gesamt Gesamt  159589.82   \nLager                           Gesamt       Gesamt Gesamt Gesamt    1406.96   \nRecycling/Prod. Trans.          Gesamt       Gesamt Gesamt Gesamt       0.00   \nExporte                         Gesamt       Gesamt Gesamt Gesamt   30540.29   \n...                                                                      ...   \nUmwandlungsausstoß              Gaserzeugung Gesamt Gesamt Gesamt        NaN   \nVerbrauch des Sektors Energie   Gesamt       Gesamt Gesamt Gesamt    1963.81   \nTransportverluste               Gesamt       Gesamt Gesamt Gesamt    4844.98   \nNichtenergetischer Verbrauch    Gesamt       Gesamt Gesamt Gesamt     176.00   \nEnergetischer Endverbrauch      Gesamt       Gesamt Gesamt Gesamt  120570.92   \n\nBL                                                                            \nET                                                                            \nYEAR                                                                    2001  \nIDX_0                           IDX_1        IDX_2  IDX_3  IDX_4              \nInländ. Erzeugung v. Rohenergie Gesamt       Gesamt Gesamt Gesamt   11731.04  \nImporte                         Gesamt       Gesamt Gesamt Gesamt  163395.57  \nLager                           Gesamt       Gesamt Gesamt Gesamt    4456.41  \nRecycling/Prod. Trans.          Gesamt       Gesamt Gesamt Gesamt       0.00  \nExporte                         Gesamt       Gesamt Gesamt Gesamt   30751.56  \n...                                                                      ...  \nUmwandlungsausstoß              Gaserzeugung Gesamt Gesamt Gesamt        NaN  \nVerbrauch des Sektors Energie   Gesamt       Gesamt Gesamt Gesamt    2005.35  \nTransportverluste               Gesamt       Gesamt Gesamt Gesamt    3815.60  \nNichtenergetischer Verbrauch    Gesamt       Gesamt Gesamt Gesamt     183.44  \nEnergetischer Endverbrauch      Gesamt       Gesamt Gesamt Gesamt  128752.23  \n\n[190 rows x 6 columns]",
      "text/html": "<div>\n<style scoped>\n    .dataframe tbody tr th:only-of-type {\n        vertical-align: middle;\n    }\n\n    .dataframe tbody tr th {\n        vertical-align: top;\n    }\n\n    .dataframe thead tr th {\n        text-align: left;\n    }\n\n    .dataframe thead tr:last-of-type th {\n        text-align: right;\n    }\n</style>\n<table border=\"1\" class=\"dataframe\">\n  <thead>\n    <tr>\n      <th></th>\n      <th></th>\n      <th></th>\n      <th></th>\n      <th>BL</th>\n      <th colspan=\"3\" halign=\"left\">Ktn</th>\n      <th colspan=\"3\" halign=\"left\">Wie</th>\n    </tr>\n    <tr>\n      <th></th>\n      <th></th>\n      <th></th>\n      <th></th>\n      <th>ET</th>\n      <th colspan=\"3\" halign=\"left\">Gesamtenergiebilanz</th>\n      <th colspan=\"3\" halign=\"left\">Gesamtenergiebilanz</th>\n    </tr>\n    <tr>\n      <th></th>\n      <th></th>\n      <th></th>\n      <th></th>\n      <th>YEAR</th>\n      <th>1999</th>\n      <th>2000</th>\n      <th>2001</th>\n      <th>1999</th>\n      <th>2000</th>\n      <th>2001</th>\n    </tr>\n    <tr>\n      <th>IDX_0</th>\n      <th>IDX_1</th>\n      <th>IDX_2</th>\n      <th>IDX_3</th>\n      <th>IDX_4</th>\n      <th></th>\n      <th></th>\n      <th></th>\n      <th></th>\n      <th></th>\n      <th></th>\n    </tr>\n  </thead>\n  <tbody>\n    <tr>\n      <th>Inländ. Erzeugung v. Rohenergie</th>\n      <th>Gesamt</th>\n      <th>Gesamt</th>\n      <th>Gesamt</th>\n      <th>Gesamt</th>\n      <td>33727.65</td>\n      <td>32682.12</td>\n      <td>35490.00</td>\n      <td>11553.41</td>\n      <td>11324.93</td>\n      <td>11731.04</td>\n    </tr>\n    <tr>\n      <th>Importe</th>\n      <th>Gesamt</th>\n      <th>Gesamt</th>\n      <th>Gesamt</th>\n      <th>Gesamt</th>\n      <td>64661.59</td>\n      <td>63599.76</td>\n      <td>68578.97</td>\n      <td>168575.18</td>\n      <td>159589.82</td>\n      <td>163395.57</td>\n    </tr>\n    <tr>\n      <th>Lager</th>\n      <th>Gesamt</th>\n      <th>Gesamt</th>\n      <th>Gesamt</th>\n      <th>Gesamt</th>\n      <td>90.35</td>\n      <td>2328.84</td>\n      <td>414.10</td>\n      <td>-856.64</td>\n      <td>1406.96</td>\n      <td>4456.41</td>\n    </tr>\n    <tr>\n      <th>Recycling/Prod. Trans.</th>\n      <th>Gesamt</th>\n      <th>Gesamt</th>\n      <th>Gesamt</th>\n      <th>Gesamt</th>\n      <td>0.00</td>\n      <td>0.00</td>\n      <td>0.00</td>\n      <td>0.00</td>\n      <td>0.00</td>\n      <td>0.00</td>\n    </tr>\n    <tr>\n      <th>Exporte</th>\n      <th>Gesamt</th>\n      <th>Gesamt</th>\n      <th>Gesamt</th>\n      <th>Gesamt</th>\n      <td>19552.95</td>\n      <td>20479.86</td>\n      <td>20808.66</td>\n      <td>29792.34</td>\n      <td>30540.29</td>\n      <td>30751.56</td>\n    </tr>\n    <tr>\n      <th>...</th>\n      <th>...</th>\n      <th>...</th>\n      <th>...</th>\n      <th>...</th>\n      <td>...</td>\n      <td>...</td>\n      <td>...</td>\n      <td>...</td>\n      <td>...</td>\n      <td>...</td>\n    </tr>\n    <tr>\n      <th>Umwandlungsausstoß</th>\n      <th>Gaserzeugung</th>\n      <th>Gesamt</th>\n      <th>Gesamt</th>\n      <th>Gesamt</th>\n      <td>NaN</td>\n      <td>NaN</td>\n      <td>NaN</td>\n      <td>NaN</td>\n      <td>NaN</td>\n      <td>NaN</td>\n    </tr>\n    <tr>\n      <th>Verbrauch des Sektors Energie</th>\n      <th>Gesamt</th>\n      <th>Gesamt</th>\n      <th>Gesamt</th>\n      <th>Gesamt</th>\n      <td>1475.05</td>\n      <td>685.26</td>\n      <td>546.83</td>\n      <td>2043.31</td>\n      <td>1963.81</td>\n      <td>2005.35</td>\n    </tr>\n    <tr>\n      <th>Transportverluste</th>\n      <th>Gesamt</th>\n      <th>Gesamt</th>\n      <th>Gesamt</th>\n      <th>Gesamt</th>\n      <td>1387.20</td>\n      <td>1353.54</td>\n      <td>1308.63</td>\n      <td>3920.30</td>\n      <td>4844.98</td>\n      <td>3815.60</td>\n    </tr>\n    <tr>\n      <th>Nichtenergetischer Verbrauch</th>\n      <th>Gesamt</th>\n      <th>Gesamt</th>\n      <th>Gesamt</th>\n      <th>Gesamt</th>\n      <td>3462.13</td>\n      <td>3834.01</td>\n      <td>3673.38</td>\n      <td>189.02</td>\n      <td>176.00</td>\n      <td>183.44</td>\n    </tr>\n    <tr>\n      <th>Energetischer Endverbrauch</th>\n      <th>Gesamt</th>\n      <th>Gesamt</th>\n      <th>Gesamt</th>\n      <th>Gesamt</th>\n      <td>69955.46</td>\n      <td>68768.68</td>\n      <td>74842.33</td>\n      <td>123633.70</td>\n      <td>120570.92</td>\n      <td>128752.23</td>\n    </tr>\n  </tbody>\n</table>\n<p>190 rows × 6 columns</p>\n</div>"
     },
     "metadata": {},
     "execution_count": 6
    }
   ],
   "source": [
    "data_1"
   ]
  },
  {
   "cell_type": "code",
   "execution_count": null,
   "metadata": {},
   "outputs": [],
   "source": []
  }
 ]
}