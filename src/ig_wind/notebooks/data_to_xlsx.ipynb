{
 "cells": [
  {
   "cell_type": "code",
   "execution_count": 1,
   "metadata": {},
   "outputs": [
    {
     "output_type": "error",
     "ename": "ModuleNotFoundError",
     "evalue": "No module named 'xlwings'",
     "traceback": [
      "\u001b[1;31m---------------------------------------------------------------------------\u001b[0m",
      "\u001b[1;31mModuleNotFoundError\u001b[0m                       Traceback (most recent call last)",
      "\u001b[1;32m<ipython-input-1-2a56d68061e1>\u001b[0m in \u001b[0;36m<module>\u001b[1;34m\u001b[0m\n\u001b[0;32m      2\u001b[0m \u001b[1;32mimport\u001b[0m \u001b[0mpandas\u001b[0m \u001b[1;32mas\u001b[0m \u001b[0mpd\u001b[0m\u001b[1;33m\u001b[0m\u001b[1;33m\u001b[0m\u001b[0m\n\u001b[0;32m      3\u001b[0m \u001b[1;32mimport\u001b[0m \u001b[0mpickle\u001b[0m\u001b[1;33m\u001b[0m\u001b[1;33m\u001b[0m\u001b[0m\n\u001b[1;32m----> 4\u001b[1;33m \u001b[1;32mimport\u001b[0m \u001b[0mxlwings\u001b[0m \u001b[1;32mas\u001b[0m \u001b[0mxw\u001b[0m\u001b[1;33m\u001b[0m\u001b[1;33m\u001b[0m\u001b[0m\n\u001b[0m\u001b[0;32m      5\u001b[0m \u001b[0mIDX\u001b[0m \u001b[1;33m=\u001b[0m \u001b[0mpd\u001b[0m\u001b[1;33m.\u001b[0m\u001b[0mIndexSlice\u001b[0m\u001b[1;33m\u001b[0m\u001b[1;33m\u001b[0m\u001b[0m\n\u001b[0;32m      6\u001b[0m \u001b[0mpd\u001b[0m\u001b[1;33m.\u001b[0m\u001b[0mset_option\u001b[0m\u001b[1;33m(\u001b[0m\u001b[1;34m'display.max_rows'\u001b[0m\u001b[1;33m,\u001b[0m \u001b[1;36m500\u001b[0m\u001b[1;33m)\u001b[0m\u001b[1;33m\u001b[0m\u001b[1;33m\u001b[0m\u001b[0m\n",
      "\u001b[1;31mModuleNotFoundError\u001b[0m: No module named 'xlwings'"
     ]
    }
   ],
   "source": [
    "from pathlib import Path\n",
    "import pandas as pd\n",
    "import pickle\n",
    "import xlwings as xw\n",
    "IDX = pd.IndexSlice\n",
    "pd.set_option('display.max_rows', 500)\n",
    "pd.set_option('display.max_columns', 500)\n",
    "pd.set_option('display.width', 1000)"
   ]
  },
  {
   "cell_type": "code",
   "execution_count": null,
   "metadata": {},
   "outputs": [],
   "source": [
    "eev_file = Path(\"C:/Users/WGO/Desktop/statsview_ipynb/files/energiebilanzen/pickles/eev_df.p\")\n",
    "\n",
    "files\\energiebilanzen\\pickles\\eev_df.p"
   ]
  },
  {
   "cell_type": "code",
   "execution_count": null,
   "metadata": {},
   "outputs": [],
   "source": [
    "_provinces = [\n",
    "\"Bgd\",\n",
    "\"Ktn\",\n",
    "\"Noe\",\n",
    "\"Ooe\",\n",
    "\"Sbg\",\n",
    "\"Stk\",\n",
    "\"Tir\",\n",
    "\"Vbg\",\n",
    "\"Wie\",\n",
    "]\n",
    "\n",
    "_years=list(range(2000,2019,1))\n",
    "\n",
    "c = {\n",
    "    \"mwh_2_gwh\": 0.001,\n",
    "    \"gwh_2_tj\": (1 / 0.27778),\n",
    "    \"tj_2_pj\": 0.001,\n",
    "    \"gwh_2_mwh\": 1000,\n",
    "    \"tj_2_gwh\": 0.27778,    \n",
    "    \"tj_2_twh\": 0.27778 / 1000,\n",
    "    \"pj_2_tj\": 1000,\n",
    "}\n",
    "\n",
    "conv = c[\"tj_2_twh\"]"
   ]
  },
  {
   "cell_type": "code",
   "execution_count": 4,
   "metadata": {},
   "outputs": [
    {
     "output_type": "error",
     "ename": "FileNotFoundError",
     "evalue": "[Errno 2] No such file or directory: 'C:\\\\Users\\\\WGO\\\\Desktop\\\\statsview_ipynb\\\\files\\\\energiebilanzen\\\\pickles\\\\eev_df.p'",
     "traceback": [
      "\u001b[1;31m---------------------------------------------------------------------------\u001b[0m",
      "\u001b[1;31mFileNotFoundError\u001b[0m                         Traceback (most recent call last)",
      "\u001b[1;32m<ipython-input-4-cd4db1d9db75>\u001b[0m in \u001b[0;36m<module>\u001b[1;34m\u001b[0m\n\u001b[0;32m      1\u001b[0m eev_df = pickle.load(\n\u001b[1;32m----> 2\u001b[1;33m     open(eev_file, \"rb\"))\n\u001b[0m",
      "\u001b[1;31mFileNotFoundError\u001b[0m: [Errno 2] No such file or directory: 'C:\\\\Users\\\\WGO\\\\Desktop\\\\statsview_ipynb\\\\files\\\\energiebilanzen\\\\pickles\\\\eev_df.p'"
     ]
    }
   ],
   "source": [
    "eev_df = pickle.load(\n",
    "    open(eev_file, \"rb\"))"
   ]
  },
  {
   "cell_type": "code",
   "execution_count": 5,
   "metadata": {
    "scrolled": true
   },
   "outputs": [],
   "source": [
    "_field = \"Energetischer Endverbrauch\"\n",
    "\n",
    "_energy_sources = [\"Gesamtenergiebilanz\"]\n",
    "_years=list(range(2000,2019,1))\n",
    "dfs = []\n",
    "\n",
    "for province in _provinces:\n",
    "    eev_data = eev_df.loc[\n",
    "        IDX[_field, \"Gesamt\", \"Gesamt\", \"Gesamt\", \"Gesamt\"], IDX[province,_energy_sources , _years]\n",
    "    ].round(0)\n",
    "    name = \"-\".join([x for x in eev_data.name if x != \"Gesamt\"])\n",
    "    eev_data.name = province\n",
    "    eev_data = eev_data.droplevel([0,1], axis=0)\n",
    "    dfs.append(eev_data)\n",
    "    \n",
    "df_tj = pd.concat(dfs,axis=1)\n",
    "df_gwh = (df_tj * c[\"tj_2_gwh\"]).round(0)\n",
    "df_twh = (df_tj * c[\"tj_2_twh\"]).round(0)"
   ]
  },
  {
   "cell_type": "code",
   "execution_count": 6,
   "metadata": {},
   "outputs": [
    {
     "name": "stdout",
     "output_type": "stream",
     "text": [
      "____________________________________________________________________________________________________\n",
      "Terajoule\n",
      "          Bgd      Ktn       Noe       Ooe      Sbg       Stk      Tir      Vbg       Wie\n",
      "YEAR                                                                                     \n",
      "2000  28078.0  68769.0  203129.0  196868.0  55824.0  159328.0  69245.0  34266.0  120571.0\n",
      "2001  30315.0  74842.0  220398.0  206954.0  60006.0  165626.0  73362.0  36081.0  128752.0\n",
      "2002  30811.0  74754.0  218514.0  206782.0  62474.0  165777.0  75451.0  36636.0  132786.0\n",
      "2003  31947.0  80365.0  224773.0  224670.0  65615.0  171594.0  80138.0  38259.0  140241.0\n",
      "2004  32603.0  80173.0  231810.0  221785.0  67133.0  178596.0  81602.0  39066.0  141124.0\n",
      "2005  33028.0  83136.0  238784.0  227310.0  71680.0  182228.0  85778.0  40315.0  141892.0\n",
      "2006  33974.0  86072.0  239124.0  227556.0  71248.0  184296.0  85387.0  40201.0  139583.0\n",
      "2007  33477.0  84769.0  235765.0  224347.0  70256.0  183332.0  84267.0  39636.0  134895.0\n",
      "2008  33437.0  86561.0  236937.0  227159.0  70849.0  179968.0  83774.0  39971.0  134537.0\n",
      "2009  33125.0  80521.0  234620.0  217480.0  67299.0  173251.0  79784.0  39080.0  135251.0\n",
      "2010  34223.0  83849.0  247125.0  230789.0  70040.0  184885.0  83377.0  41298.0  140409.0\n",
      "2011  34554.0  81737.0  240813.0  223611.0  66348.0  182536.0  79221.0  38423.0  133200.0\n",
      "2012  33573.0  80734.0  240338.0  229184.0  64686.0  179731.0  82335.0  39157.0  132776.0\n",
      "2013  33595.0  86432.0  246516.0  230715.0  68029.0  183738.0  85158.0  40488.0  135537.0\n",
      "2014  32714.0  80806.0  238754.0  224081.0  64947.0  175554.0  82139.0  38127.0  127362.0\n",
      "2015  34353.0  83319.0  246979.0  227290.0  66054.0  179752.0  86331.0  40144.0  131418.0\n",
      "2016  35365.0  84777.0  253248.0  236948.0  66877.0  185141.0  85953.0  40609.0  134805.0\n",
      "2017  36023.0  87278.0  255451.0  239110.0  67503.0  188417.0  89195.0  41574.0  136481.0\n",
      "2018  34827.0  86636.0  253711.0  235517.0  65483.0  187893.0  87195.0  40941.0  133744.0\n",
      "____________________________________________________________________________________________________\n",
      "GWh\n",
      "          Bgd      Ktn      Noe      Ooe      Sbg      Stk      Tir      Vbg      Wie\n",
      "YEAR                                                                                 \n",
      "2000   7800.0  19103.0  56425.0  54686.0  15507.0  44258.0  19235.0   9518.0  33492.0\n",
      "2001   8421.0  20790.0  61222.0  57488.0  16668.0  46008.0  20378.0  10023.0  35765.0\n",
      "2002   8559.0  20765.0  60699.0  57440.0  17354.0  46050.0  20959.0  10177.0  36885.0\n",
      "2003   8874.0  22324.0  62437.0  62409.0  18227.0  47665.0  22261.0  10628.0  38956.0\n",
      "2004   9056.0  22270.0  64392.0  61607.0  18648.0  49610.0  22667.0  10852.0  39201.0\n",
      "2005   9175.0  23094.0  66329.0  63142.0  19911.0  50619.0  23827.0  11199.0  39415.0\n",
      "2006   9437.0  23909.0  66424.0  63211.0  19791.0  51194.0  23719.0  11167.0  38773.0\n",
      "2007   9299.0  23547.0  65491.0  62319.0  19516.0  50926.0  23408.0  11010.0  37471.0\n",
      "2008   9288.0  24045.0  65816.0  63100.0  19680.0  49992.0  23271.0  11103.0  37372.0\n",
      "2009   9201.0  22367.0  65173.0  60412.0  18694.0  48126.0  22162.0  10856.0  37570.0\n",
      "2010   9506.0  23292.0  68646.0  64109.0  19456.0  51357.0  23160.0  11472.0  39003.0\n",
      "2011   9598.0  22705.0  66893.0  62115.0  18430.0  50705.0  22006.0  10673.0  37000.0\n",
      "2012   9326.0  22426.0  66761.0  63663.0  17968.0  49926.0  22871.0  10877.0  36883.0\n",
      "2013   9332.0  24009.0  68477.0  64088.0  18897.0  51039.0  23655.0  11247.0  37649.0\n",
      "2014   9087.0  22446.0  66321.0  62245.0  18041.0  48765.0  22817.0  10591.0  35379.0\n",
      "2015   9543.0  23144.0  68606.0  63137.0  18348.0  49932.0  23981.0  11151.0  36505.0\n",
      "2016   9824.0  23549.0  70347.0  65819.0  18577.0  51428.0  23876.0  11280.0  37446.0\n",
      "2017  10006.0  24244.0  70959.0  66420.0  18751.0  52338.0  24777.0  11548.0  37912.0\n",
      "2018   9674.0  24066.0  70476.0  65422.0  18190.0  52193.0  24221.0  11373.0  37151.0\n",
      "____________________________________________________________________________________________________\n",
      "TWh\n",
      "       Bgd   Ktn   Noe   Ooe   Sbg   Stk   Tir   Vbg   Wie\n",
      "YEAR                                                      \n",
      "2000   8.0  19.0  56.0  55.0  16.0  44.0  19.0  10.0  33.0\n",
      "2001   8.0  21.0  61.0  57.0  17.0  46.0  20.0  10.0  36.0\n",
      "2002   9.0  21.0  61.0  57.0  17.0  46.0  21.0  10.0  37.0\n",
      "2003   9.0  22.0  62.0  62.0  18.0  48.0  22.0  11.0  39.0\n",
      "2004   9.0  22.0  64.0  62.0  19.0  50.0  23.0  11.0  39.0\n",
      "2005   9.0  23.0  66.0  63.0  20.0  51.0  24.0  11.0  39.0\n",
      "2006   9.0  24.0  66.0  63.0  20.0  51.0  24.0  11.0  39.0\n",
      "2007   9.0  24.0  65.0  62.0  20.0  51.0  23.0  11.0  37.0\n",
      "2008   9.0  24.0  66.0  63.0  20.0  50.0  23.0  11.0  37.0\n",
      "2009   9.0  22.0  65.0  60.0  19.0  48.0  22.0  11.0  38.0\n",
      "2010  10.0  23.0  69.0  64.0  19.0  51.0  23.0  11.0  39.0\n",
      "2011  10.0  23.0  67.0  62.0  18.0  51.0  22.0  11.0  37.0\n",
      "2012   9.0  22.0  67.0  64.0  18.0  50.0  23.0  11.0  37.0\n",
      "2013   9.0  24.0  68.0  64.0  19.0  51.0  24.0  11.0  38.0\n",
      "2014   9.0  22.0  66.0  62.0  18.0  49.0  23.0  11.0  35.0\n",
      "2015  10.0  23.0  69.0  63.0  18.0  50.0  24.0  11.0  37.0\n",
      "2016  10.0  24.0  70.0  66.0  19.0  51.0  24.0  11.0  37.0\n",
      "2017  10.0  24.0  71.0  66.0  19.0  52.0  25.0  12.0  38.0\n",
      "2018  10.0  24.0  70.0  65.0  18.0  52.0  24.0  11.0  37.0\n"
     ]
    }
   ],
   "source": [
    "# wb.save(Path('data.xlsx'))\n",
    "results_file = \"results.xlsx\"\n",
    "wb = xw.Book(results_file)\n",
    "\n",
    "try:\n",
    "    wb.sheets.add(sheet_name)\n",
    "    ws = wb.sheets[sheet_name]\n",
    "except:\n",
    "    ws = wb.sheets[sheet_name]\n",
    "\n",
    "ws.clear_contents()\n",
    "\n",
    "ws.range(\"K1\").value = f\"Titel: {name}\"\n",
    "ws.range('K1').api.Font.Bold = True\n",
    "# ws.range(\"K2\").value = f'Quelle: {results[\"source\"]}'\n",
    "# next_row_number = ws.range(\"K1\").end('down').row\n",
    "\n",
    "ws.range(\"K4\").options(\n",
    "    expand='table').value = df_tj\n",
    "ws.range(\"K4\").value = \"TJ\"\n",
    "\n",
    "# next_column_number = ws.range(\"K5\").end('right').get_address(0, 0)[0]\n",
    "next_row_name_2 = \"W4\"\n",
    "\n",
    "for u in energy_units:\n",
    "\n",
    "    ws.range(next_row_name_2).options(\n",
    "        expand='table').value = biv_gesamt[u].iloc[-1, :].to_frame().T\n",
    "\n",
    "    ws.range(next_row_name_2).value = u\n",
    "\n",
    "    next_row_number_2 = ws.range(next_row_name_2).end('down').row + 2\n",
    "    next_row_name_2 = \"W\" + str(next_row_number_2)"
   ]
  },
  {
   "cell_type": "code",
   "execution_count": 2,
   "metadata": {},
   "outputs": [
    {
     "ename": "NameError",
     "evalue": "name 'xw' is not defined",
     "output_type": "error",
     "traceback": [
      "\u001b[1;31m---------------------------------------------------------------------------\u001b[0m",
      "\u001b[1;31mNameError\u001b[0m                                 Traceback (most recent call last)",
      "\u001b[1;32m<ipython-input-2-96e1f78d7518>\u001b[0m in \u001b[0;36m<module>\u001b[1;34m\u001b[0m\n\u001b[1;32m----> 1\u001b[1;33m \u001b[0mwb\u001b[0m \u001b[1;33m=\u001b[0m \u001b[0mxw\u001b[0m\u001b[1;33m.\u001b[0m\u001b[0mBook\u001b[0m\u001b[1;33m(\u001b[0m\u001b[0mout\u001b[0m\u001b[1;33m)\u001b[0m\u001b[1;33m\u001b[0m\u001b[1;33m\u001b[0m\u001b[0m\n\u001b[0m\u001b[0;32m      2\u001b[0m \u001b[1;32mfor\u001b[0m \u001b[0met\u001b[0m \u001b[1;32min\u001b[0m \u001b[0m_energy_sources\u001b[0m\u001b[1;33m:\u001b[0m\u001b[1;33m\u001b[0m\u001b[1;33m\u001b[0m\u001b[0m\n\u001b[0;32m      3\u001b[0m     \u001b[1;32mtry\u001b[0m\u001b[1;33m:\u001b[0m\u001b[1;33m\u001b[0m\u001b[1;33m\u001b[0m\u001b[0m\n\u001b[0;32m      4\u001b[0m         \u001b[0mwb\u001b[0m\u001b[1;33m.\u001b[0m\u001b[0msheets\u001b[0m\u001b[1;33m.\u001b[0m\u001b[0madd\u001b[0m\u001b[1;33m(\u001b[0m\u001b[0met\u001b[0m\u001b[1;33m)\u001b[0m\u001b[1;33m\u001b[0m\u001b[1;33m\u001b[0m\u001b[0m\n\u001b[0;32m      5\u001b[0m     \u001b[1;32mexcept\u001b[0m\u001b[1;33m:\u001b[0m\u001b[1;33m\u001b[0m\u001b[1;33m\u001b[0m\u001b[0m\n",
      "\u001b[1;31mNameError\u001b[0m: name 'xw' is not defined"
     ]
    }
   ],
   "source": [
    "wb = xw.Book(out)\n",
    "for et in _energy_sources:\n",
    "    try:\n",
    "        wb.sheets.add(et)\n",
    "    except:\n",
    "        pass\n",
    "    ws = wb.sheets[et]\n",
    "    ws.range(\"A1\").value = et + \"-\" + _field\n",
    "    ws.range('A1').api.Font.Bold = True\n",
    "    ws.range(\"A2\").value = \"TWh\"\n",
    "    ws.range(\"A3\").value = df_tj\n",
    "#     ws.range(\"B3:B22\").color = \"green\"\n",
    "    \n",
    "    chart = ws.charts.add()\n",
    "    chart.width = 500\n",
    "    chart.height = 300\n",
    "\n",
    "    chart.set_source_data(ws.range('B3').expand())\n",
    "    chart.chart_type = 'column_stacked'    \n",
    "\n",
    "    chart.api[1].SetElement(2)  # Place chart title at the top\n",
    "    chart.api[1].SeriesCollection(1).XValues = _years\n",
    "\n",
    "    for enum,x in enumerate(_provinces):\n",
    "        chart.api[1].SeriesCollection(enum+1).Format.Fill.ForeColor.RGB = 22     \n",
    "#         chart.api[1].SeriesCollection(enum+1).HasDataLabels = True\n",
    "\n",
    "    chart.api[1].Axes(1).HasTitle = True # Change text of the chart title    \n",
    "    chart.api[1].Axes(2).HasTitle = True # Change text of the chart title\n",
    "    chart.api[1].Axes(2).AxisTitle.Text = \"TJ\" # Change text of the chart title\n",
    "    chart.api[1].Axes(1).AxisTitle.Text =  \"Years\" # Change text of the chart title\n",
    "    chart.api[1].Axes(1).AxisTitle.Font.Bold = False # Change text of the chart title\n",
    "    chart.api[1].Axes(2).AxisTitle.Font.Bold = False # Change text of the chart title    \n",
    "    chart.api[1].Axes(1).AxisTitle.Font.Bold = False # Change text of the chart title\n",
    "    chart.api[1].Axes(1).TickLabels.Orientation = 90 \n",
    "    chart.api[1].SetElement(2)  # Place chart title at the top\n",
    "    chart.api[1].ChartTitle.Text = 'Feb sales' \n",
    "    \n",
    "#     chart.api[1].SeriesCollection(1).Interior.Color = \"green\"\n",
    "\n",
    "#     chart.api[1].SeriesCollection(2).Format.Line.ForeColor.RGB = RGB(255, 255, 0)"
   ]
  },
  {
   "cell_type": "code",
   "execution_count": 20,
   "metadata": {},
   "outputs": [
    {
     "data": {
      "text/plain": [
       "(0, 0, 0)"
      ]
     },
     "execution_count": 20,
     "metadata": {},
     "output_type": "execute_result"
    }
   ],
   "source": [
    "xw.utils.int_to_rgb((0))"
   ]
  },
  {
   "cell_type": "markdown",
   "metadata": {},
   "source": [
    "CHART TYPES\n",
    "\n",
    "chart.chart_type = 'column_stacked'\n",
    "chart.chart_type = 'bar_stacked'\n",
    "chart.chart_type = 'bar_grouped'"
   ]
  },
  {
   "cell_type": "markdown",
   "metadata": {},
   "source": [
    "       .ChartType = xlXYScatter\n",
    "\n",
    "        .SeriesCollection.NewSeries\n",
    "        'Chart properties\n",
    "        'Title Activated, Text, and properties.\n",
    "        .HasTitle = True\n",
    "        .ChartTitle.Characters.Text = \" Measured data vs Calculated Data\" ' Chart Title\n",
    "        .ChartTitle.Font.Size = 18\n",
    "        .ChartTitle.Font.Bold = True\n",
    "        .ChartTitle.Font.Underline = True\n",
    "        .ChartTitle.Font.ColorIndex = 1\n",
    "        'X axis title activate, Text, and properties\n",
    "        .Axes(xlCategory, xlPrimary).HasTitle = True\n",
    "        .Axes(xlCategory, xlPrimary).AxisTitle.Characters.Text = \"x-Axis\"\n",
    "        .Axes(xlCategory, xlPrimary).AxisTitle.Font.Size = 16\n",
    "        .Axes(xlCategory, xlPrimary).AxisTitle.Font.Bold = True\n",
    "        .Axes(xlCategory, xlPrimary).AxisTitle.Font.Underline = True\n",
    "        .Axes(xlCategory, xlPrimary).AxisTitle.Font.ColorIndex = 1\n",
    "        'y axis title activate, Text, and properties\n",
    "        .Axes(xlValue, xlPrimary).HasTitle = True\n",
    "        .Axes(xlValue, xlPrimary).AxisTitle.Characters.Text = \"Y-Axis\"\n",
    "        .Axes(xlCategory, xlPrimary).AxisTitle.Font.Size = 16\n",
    "        .Axes(xlCategory, xlPrimary).AxisTitle.Font.Bold = True\n",
    "        .Axes(xlCategory, xlPrimary).AxisTitle.Font.Underline = False\n",
    "        .Axes(xlCategory, xlPrimary).AxisTitle.Font.ColorIndex = 1\n",
    "\n",
    "        'first Series properties\n",
    "            .SeriesCollection(1).Name = \"=\"\"Values\"\"\" 'name of the series\n",
    "            .SeriesCollection(1).XValues = \"=Sheet1!$d$4:$d$7\" ' X values range\n",
    "            .SeriesCollection(1).Values = \"=Sheet1!$c$4:$c$7\" ' Y values range\n",
    "            .SeriesCollection(1).MarkerStyle = 1 'Marker's style 1= Square\n",
    "            .SeriesCollection(1).MarkerSize = 7 'Marker's size\n",
    "            .SeriesCollection(1).MarkerBackgroundColorIndex = 2 'Marker's colorfill 2= white\n",
    "            .SeriesCollection(1).MarkerForegroundColorIndex = 1 ' Marker's border color 1=black\n",
    "        .SeriesCollection.NewSeries\n",
    "        .SeriesCollection(2).XValues = \"=Sheet1!$e$4:$e$5\"\n",
    "        .SeriesCollection(2).Values = \"=Sheet1!$f$4:$f$5\"\n",
    "        .SeriesCollection(2).Border.LineStyle = xlSolid\n",
    "        .SeriesCollection(2).Border.ColorIndex = 1\n",
    "        .SeriesCollection(2).MarkerBackgroundColorIndex = 2\n",
    "        .SeriesCollection(2).MarkerForegroundColorIndex = 2\n",
    "\n",
    "    End With\n",
    "End Sub"
   ]
  },
  {
   "cell_type": "markdown",
   "metadata": {},
   "source": [
    "NEA"
   ]
  },
  {
   "cell_type": "code",
   "execution_count": 26,
   "metadata": {},
   "outputs": [],
   "source": [
    "nea_df = pickle.load(\n",
    "    open(nea_file, \"rb\"))"
   ]
  },
  {
   "cell_type": "code",
   "execution_count": null,
   "metadata": {},
   "outputs": [],
   "source": [
    "nea_df.loc[IDX[:], IDX[\"Ktn\", \"Gesamt (ohne E1 - E7)\", \"Dampferzeugung\", 2000]]\n"
   ]
  },
  {
   "cell_type": "markdown",
   "metadata": {},
   "source": [
    "RES"
   ]
  },
  {
   "cell_type": "code",
   "execution_count": null,
   "metadata": {},
   "outputs": [],
   "source": [
    "res_data = res_data.loc[\n",
    "    IDX[:, :, :, :, :], IDX[\"Wie\", 1990]\n",
    "]"
   ]
  },
  {
   "cell_type": "code",
   "execution_count": null,
   "metadata": {},
   "outputs": [],
   "source": [
    "res_df = pickle.load(\n",
    "    open(res_file, \"rb\"))"
   ]
  }
 ],
 "metadata": {
  "kernelspec": {
   "display_name": "Python 3",
   "language": "python",
   "name": "python3"
  },
  "language_info": {
   "codemirror_mode": {
    "name": "ipython",
    "version": 3
   },
   "file_extension": ".py",
   "mimetype": "text/x-python",
   "name": "python",
   "nbconvert_exporter": "python",
   "pygments_lexer": "ipython3",
   "version": "3.7.6-final"
  }
 },
 "nbformat": 4,
 "nbformat_minor": 4
}