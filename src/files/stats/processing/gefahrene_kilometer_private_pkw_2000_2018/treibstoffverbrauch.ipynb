{
 "cells": [
  {
   "cell_type": "code",
   "execution_count": 5,
   "metadata": {},
   "outputs": [],
   "source": [
    "from pathlib import Path\n",
    "import pandas as pd\n",
    "import pickle\n",
    "import xlwings as xw\n",
    "import numpy as np\n",
    "IDX = pd.IndexSlice\n",
    "pd.set_option('display.max_rows', 500)\n",
    "pd.set_option('display.max_columns', 500)\n",
    "pd.set_option('display.width', 1000)"
   ]
  },
  {
   "cell_type": "code",
   "execution_count": 6,
   "metadata": {
    "scrolled": false
   },
   "outputs": [],
   "source": [
    "file = Path(\"C:/Code/balplot/enerbal/src/files/stats/processing/gefahrene_kilometer_private_pkw_2000_2018/fahrleistungen_privater_pkw.xlsx\")\n",
    "sheet_names = [\n",
    "    \"Österreich\",\n",
    "    \"Burgenland\",\n",
    "    \"Kärnten\", \n",
    "    \"Niederösterreich\",\n",
    "    \"Oberösterreich\", \n",
    "    \"Salzburg\", \n",
    "    \"Steiermark\", \n",
    "    \"Tirol\", \n",
    "    \"Vorarlberg\", \n",
    "    \"Wien\"\n",
    "]\n",
    "dfs = {}\n",
    "\n",
    "for sheet_name in sheet_names:\n",
    "    dfs[sheet_name] = pd.read_excel(file, sheet_name=sheet_name)"
   ]
  },
  {
   "cell_type": "code",
   "execution_count": 7,
   "metadata": {
    "tags": []
   },
   "outputs": [
    {
     "output_type": "stream",
     "name": "stdout",
     "text": "[1999, 2003, 2005, 2007, 2009, 2011, 2013]\n"
    }
   ],
   "source": [
    "index = [1999]\n",
    "index.extend(list(range(2003,2015, 2)))\n",
    "print(index)\n",
    "df_output = pd.DataFrame(index=index, columns=sheet_names)\n",
    "\n",
    "for enum,sheet_name in enumerate(sheet_names):\n",
    "    \n",
    "    df = dfs[sheet_name].iloc[:,:4]\n",
    "    df.set_index(df.columns[0], inplace=True)\n",
    "    # df.reset_index(inplace=True, drop=True)\n",
    "    df = df[df.index.notnull()]\n",
    "    \n",
    "    # Get all indices with \"Q-Statistik ...\" as the row value\n",
    "    i = []\n",
    "    for idx in df[df.index.str.startswith(\"Q\")].index:\n",
    "        i.append(df.index.get_loc(idx))\n",
    "\n",
    "    # Iter over indices and check row above for keyword \"Zusammen\"\n",
    "    p=[]\n",
    "    for idx in i:\n",
    "\n",
    "        # if idx == i[-1] or idx == i[-2]:\n",
    "        #     col_idx = 4\n",
    "        #     row_idx_offset = 5\n",
    "        # else:\n",
    "        col_idx = 3\n",
    "        row_idx_offset = 4\n",
    "\n",
    "        g = df.iloc[idx-row_idx_offset:idx, -1]\n",
    "        g.name = sheet_name\n",
    "        if g.index[-1] == \"Zusammen\":\n",
    "            # print(\"Hi\")\n",
    "            p.append(g)\n",
    "        else:\n",
    "            raise Error\n",
    "\n",
    "        # print(p)\n",
    "\n",
    "        # for e, v in enumerate(p):\n",
    "        #     h = (e+1)*2-1\n",
    "        #     try:\n",
    "        #         df_output.iloc[h,enum] = v / 2            \n",
    "        #         df_output.iloc[h-1,enum] = v / 2\n",
    "        #     except:\n",
    "        #         pass"
   ]
  },
  {
   "cell_type": "code",
   "execution_count": 8,
   "metadata": {
    "tags": []
   },
   "outputs": [
    {
     "output_type": "stream",
     "name": "stdout",
     "text": "Energieeinsatz der Haushalte (Mikrozensus 1999/2000) - Fahrleistungen und Treibstoffeinsatz privater Pkw\\nErgebnisse für Wien\nInsgesamt          NaN\nBenzin       407301777\nDiesel       195340469\nZusammen     602642246\nName: Wien, dtype: object\nD3\nEnergieeinsatz der Haushalte (Mikrozensus 1999/2000) - Fahrleistungen und Treibstoffeinsatz privater Pkw\\nErgebnisse für Wien\nBenzin       324428714\nDiesel       284311832\nSonstiger      2888481\nZusammen     611629027\nName: Wien, dtype: object\nG3\nEnergieeinsatz der Haushalte (Mikrozensus 1999/2000) - Fahrleistungen und Treibstoffeinsatz privater Pkw\\nErgebnisse für Wien\nBenzin       280791480\nDiesel       274245655\nSonstiger      4611649\nZusammen     559648784\nName: Wien, dtype: object\nJ3\nEnergieeinsatz der Haushalte (Mikrozensus 1999/2000) - Fahrleistungen und Treibstoffeinsatz privater Pkw\\nErgebnisse für Wien\nBenzin       247789308\nDiesel       275246211\nSonstiger      4596916\nZusammen     527632435\nName: Wien, dtype: object\nM3\nEnergieeinsatz der Haushalte (Mikrozensus 1999/2000) - Fahrleistungen und Treibstoffeinsatz privater Pkw\\nErgebnisse für Wien\nBenzin       246500488\nDiesel       330784203\nSonstiger      9698189\nZusammen     586982880\nName: Wien, dtype: object\nP3\nEnergieeinsatz der Haushalte (Mikrozensus 1999/2000) - Fahrleistungen und Treibstoffeinsatz privater Pkw\\nErgebnisse für Wien\nBenzin       227525503\nDiesel       304556659\nSonstiger       963811\nZusammen     533045973\nName: Wien, dtype: object\nS3\nEnergieeinsatz der Haushalte (Mikrozensus 1999/2000) - Fahrleistungen und Treibstoffeinsatz privater Pkw\\nErgebnisse für Wien\nBenzin       192755619\nDiesel       267407599\nSonstiger       466514\nZusammen     460629732\nName: Wien, dtype: object\nV3\n1999\nBenzin      3.42133e+09\nDiesel      1.91434e+09\nZusammen    5.33567e+09\nName: Wien, dtype: object\nD3\n2003\nBenzin       2.7252e+09\nDiesel      2.78626e+09\nZusammen    5.51146e+09\nName: Wien, dtype: object\nG3\n2005\nBenzin      2.35865e+09\nDiesel      2.68761e+09\nZusammen    5.04626e+09\nName: Wien, dtype: object\nJ3\n2007\nBenzin      2.08143e+09\nDiesel      2.69741e+09\nZusammen    4.77884e+09\nName: Wien, dtype: object\nM3\n2009\nBenzin       2.0706e+09\nDiesel      3.24169e+09\nZusammen    5.31229e+09\nName: Wien, dtype: object\nP3\n2011\nBenzin      1.91121e+09\nDiesel      2.98466e+09\nZusammen    4.89587e+09\nName: Wien, dtype: object\nS3\n2013\nBenzin      1.61915e+09\nDiesel      2.62059e+09\nZusammen    4.23974e+09\nName: Wien, dtype: object\nV3\n1999\nBenzin      2.87392e+10\nDiesel      1.87605e+10\nZusammen    4.74997e+10\nName: Wien, dtype: object\nD3\n2003\nBenzin      2.28917e+10\nDiesel      2.73053e+10\nZusammen     5.0197e+10\nName: Wien, dtype: object\nG3\n2005\nBenzin      1.98126e+10\nDiesel      2.63386e+10\nZusammen    4.61512e+10\nName: Wien, dtype: object\nJ3\n2007\nBenzin       1.7484e+10\nDiesel      2.64346e+10\nZusammen    4.39187e+10\nName: Wien, dtype: object\nM3\n2009\nBenzin      1.73931e+10\nDiesel      3.17685e+10\nZusammen    4.91616e+10\nName: Wien, dtype: object\nP3\n2011\nBenzin      1.60542e+10\nDiesel      2.92496e+10\nZusammen    4.53038e+10\nName: Wien, dtype: object\nS3\n2013\nBenzin      1.36008e+10\nDiesel      2.56818e+10\nZusammen    3.92827e+10\nName: Wien, dtype: object\nV3\n1999\nBenzin      2.41409e+11\nDiesel      1.83853e+11\nZusammen    4.25262e+11\nName: Wien, dtype: object\nD3\n2003\nBenzin       1.9229e+11\nDiesel      2.67592e+11\nZusammen    4.59882e+11\nName: Wien, dtype: object\nG3\n2005\nBenzin      1.66426e+11\nDiesel      2.58118e+11\nZusammen    4.24544e+11\nName: Wien, dtype: object\nJ3\n2007\nBenzin      1.46866e+11\nDiesel       2.5906e+11\nZusammen    4.05925e+11\nName: Wien, dtype: object\nM3\n2009\nBenzin      1.46102e+11\nDiesel      3.11331e+11\nZusammen    4.57433e+11\nName: Wien, dtype: object\nP3\n2011\nBenzin      1.34855e+11\nDiesel      2.86646e+11\nZusammen    4.21502e+11\nName: Wien, dtype: object\nS3\n2013\nBenzin      1.14247e+11\nDiesel      2.51682e+11\nZusammen    3.65929e+11\nName: Wien, dtype: object\nV3\n1999\nBenzin      2.02784e+12\nDiesel      1.80176e+12\nZusammen     3.8296e+12\nName: Wien, dtype: object\nD3\n2003\nBenzin      1.61524e+12\nDiesel       2.6224e+12\nZusammen    4.23764e+12\nName: Wien, dtype: object\nG3\n2005\nBenzin      1.39798e+12\nDiesel      2.52955e+12\nZusammen    3.92753e+12\nName: Wien, dtype: object\nJ3\n2007\nBenzin      1.23367e+12\nDiesel      2.53878e+12\nZusammen    3.77246e+12\nName: Wien, dtype: object\nM3\n2009\nBenzin      1.22726e+12\nDiesel      3.05105e+12\nZusammen     4.2783e+12\nName: Wien, dtype: object\nP3\n2011\nBenzin      1.13278e+12\nDiesel      2.80913e+12\nZusammen    3.94192e+12\nName: Wien, dtype: object\nS3\n2013\nBenzin      9.59675e+11\nDiesel      2.46648e+12\nZusammen    3.42616e+12\nName: Wien, dtype: object\nV3\n1999\nBenzin      1.70338e+13\nDiesel      1.76572e+13\nZusammen    3.46911e+13\nName: Wien, dtype: object\nD3\n2003\nBenzin       1.3568e+13\nDiesel      2.56995e+13\nZusammen    3.92675e+13\nName: Wien, dtype: object\nG3\n2005\nBenzin       1.1743e+13\nDiesel      2.47896e+13\nZusammen    3.65327e+13\nName: Wien, dtype: object\nJ3\n2007\nBenzin      1.03628e+13\nDiesel      2.48801e+13\nZusammen    3.52429e+13\nName: Wien, dtype: object\nM3\n2009\nBenzin      1.03089e+13\nDiesel      2.99003e+13\nZusammen    4.02092e+13\nName: Wien, dtype: object\nP3\n2011\nBenzin      9.51539e+12\nDiesel      2.75295e+13\nZusammen    3.70449e+13\nName: Wien, dtype: object\nS3\n2013\nBenzin      8.06127e+12\nDiesel      2.41715e+13\nZusammen    3.22328e+13\nName: Wien, dtype: object\nV3\n1999\nBenzin      1.43084e+14\nDiesel      1.73041e+14\nZusammen    3.16125e+14\nName: Wien, dtype: object\nD3\n2003\nBenzin      1.13971e+14\nDiesel      2.51855e+14\nZusammen    3.65827e+14\nName: Wien, dtype: object\nG3\n2005\nBenzin      9.86415e+13\nDiesel      2.42938e+14\nZusammen     3.4158e+14\nName: Wien, dtype: object\nJ3\n2007\nBenzin      8.70479e+13\nDiesel      2.43825e+14\nZusammen    3.30873e+14\nName: Wien, dtype: object\nM3\n2009\nBenzin      8.65951e+13\nDiesel      2.93023e+14\nZusammen    3.79618e+14\nName: Wien, dtype: object\nP3\n2011\nBenzin      7.99293e+13\nDiesel      2.69789e+14\nZusammen    3.49718e+14\nName: Wien, dtype: object\nS3\n2013\nBenzin      6.77147e+13\nDiesel      2.36881e+14\nZusammen    3.04596e+14\nName: Wien, dtype: object\nV3\n1999\nBenzin      1.20191e+15\nDiesel       1.6958e+15\nZusammen    2.89771e+15\nName: Wien, dtype: object\nD3\n2003\nBenzin      9.57358e+14\nDiesel      2.46818e+15\nZusammen    3.42554e+15\nName: Wien, dtype: object\nG3\n2005\nBenzin      8.28589e+14\nDiesel       2.3808e+15\nZusammen    3.20939e+15\nName: Wien, dtype: object\nJ3\n2007\nBenzin      7.31202e+14\nDiesel      2.38948e+15\nZusammen    3.12068e+15\nName: Wien, dtype: object\nM3\n2009\nBenzin      7.27399e+14\nDiesel      2.87162e+15\nZusammen    3.59902e+15\nName: Wien, dtype: object\nP3\n2011\nBenzin      6.71406e+14\nDiesel      2.64393e+15\nZusammen    3.31534e+15\nName: Wien, dtype: object\nS3\n2013\nBenzin      5.68803e+14\nDiesel      2.32143e+15\nZusammen    2.89024e+15\nName: Wien, dtype: object\nV3\n1999\nBenzin       1.0096e+16\nDiesel      1.66188e+16\nZusammen    2.67149e+16\nName: Wien, dtype: object\nD3\n2003\nBenzin      8.04181e+15\nDiesel      2.41882e+16\nZusammen      3.223e+16\nName: Wien, dtype: object\nG3\n2005\nBenzin      6.96014e+15\nDiesel      2.33318e+16\nZusammen     3.0292e+16\nName: Wien, dtype: object\nJ3\n2007\nBenzin       6.1421e+15\nDiesel      2.34169e+16\nZusammen     2.9559e+16\nName: Wien, dtype: object\nM3\n2009\nBenzin      6.11015e+15\nDiesel      2.81419e+16\nZusammen     3.4252e+16\nName: Wien, dtype: object\nP3\n2011\nBenzin      5.63981e+15\nDiesel      2.59106e+16\nZusammen    3.15504e+16\nName: Wien, dtype: object\nS3\n2013\nBenzin      4.77795e+15\nDiesel        2.275e+16\nZusammen     2.7528e+16\nName: Wien, dtype: object\nV3\n1999\nBenzin      8.48066e+16\nDiesel      1.62865e+17\nZusammen    2.47671e+17\nName: Wien, dtype: object\nD3\n2003\nBenzin      6.75512e+16\nDiesel      2.37044e+17\nZusammen    3.04596e+17\nName: Wien, dtype: object\nG3\n2005\nBenzin      5.84652e+16\nDiesel      2.28652e+17\nZusammen    2.87117e+17\nName: Wien, dtype: object\nJ3\n2007\nBenzin      5.15936e+16\nDiesel      2.29486e+17\nZusammen     2.8108e+17\nName: Wien, dtype: object\nM3\n2009\nBenzin      5.13253e+16\nDiesel      2.75791e+17\nZusammen    3.27116e+17\nName: Wien, dtype: object\nP3\n2011\nBenzin      4.73744e+16\nDiesel      2.53923e+17\nZusammen    3.01298e+17\nName: Wien, dtype: object\nS3\n2013\nBenzin      4.01348e+16\nDiesel       2.2295e+17\nZusammen    2.63085e+17\nName: Wien, dtype: object\nV3\n"
    }
   ],
   "source": [
    "wb = xw.Book()\n",
    "for sheet_name in sheet_names:\n",
    "    try:\n",
    "        wb.sheets.add(sheet_name)\n",
    "    except:\n",
    "        pass\n",
    "    last_column = \"A3\"\n",
    "\n",
    "    for v, idx in zip(p, index):\n",
    "        print(v)\n",
    "        # if idx == 1999:\n",
    "            # ws.range('A3').value = v.to_frame().T.values\n",
    "        ws = wb.sheets[sheet_name]\n",
    "        ws.range(last_column).api.Font.Bold = True\n",
    "        # ws.range(last_column[0] + '1').value = v\n",
    "        ws.range(last_column).value = \"Liter\"\n",
    "        # v = v.reset_index()\n",
    "        # v = v.iloc[:,0]\n",
    "        try:\n",
    "            v.drop(\"Sonstiger\", inplace=True)\n",
    "        except:\n",
    "            pass\n",
    "\n",
    "        try:\n",
    "            v.drop(\"Insgesamt\", inplace=True)\n",
    "        except:\n",
    "            pass\n",
    "        v.iloc[:2] *= np.array([8.4, 9.8])\n",
    "        v[\"Zusammen\"] = v.iloc[:2].sum(axis=0) \n",
    "        v.index.name = idx\n",
    "        ws.range(last_column).value =  v / 1e9 # kWh -> TWh\n",
    "        last_column = ws.range(last_column).end('right').offset(0,2).get_address(0,0)\n",
    "        ws.range(last_column).end('up').offset(0,1).value = \"TWh\"\n",
    "\n",
    "        print(last_column)\n"
   ]
  },
  {
   "cell_type": "code",
   "execution_count": null,
   "metadata": {},
   "outputs": [],
   "source": []
  }
 ],
 "metadata": {
  "kernelspec": {
   "display_name": "Python 3",
   "language": "python",
   "name": "python3"
  },
  "language_info": {
   "codemirror_mode": {
    "name": "ipython",
    "version": 3
   },
   "file_extension": ".py",
   "mimetype": "text/x-python",
   "name": "python",
   "nbconvert_exporter": "python",
   "pygments_lexer": "ipython3",
   "version": "3.7.6-final"
  }
 },
 "nbformat": 4,
 "nbformat_minor": 4
}