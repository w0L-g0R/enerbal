{
 "metadata": {
  "language_info": {
   "codemirror_mode": {
    "name": "ipython",
    "version": 3
   },
   "file_extension": ".py",
   "mimetype": "text/x-python",
   "name": "python",
   "nbconvert_exporter": "python",
   "pygments_lexer": "ipython3",
   "version": "3.7.6-final"
  },
  "orig_nbformat": 2,
  "kernelspec": {
   "name": "python3",
   "display_name": "Python 3"
  }
 },
 "nbformat": 4,
 "nbformat_minor": 2,
 "cells": [
  {
   "cell_type": "code",
   "execution_count": 1,
   "metadata": {},
   "outputs": [],
   "source": [
    "from pathlib import Path\n",
    "import pandas as pd\n",
    "import pickle\n",
    "IDX = pd.IndexSlice"
   ]
  },
  {
   "cell_type": "code",
   "execution_count": 2,
   "metadata": {},
   "outputs": [],
   "source": [
    "res_file = Path(\"D:/_WORK/AEA/Projekte/bilanzen_monitor/enerbal/src/files/energiebilanzen/pickles/renewables_df.p\")\n",
    "indices_file = Path(\"D:/_WORK/AEA/Projekte/bilanzen_monitor/enerbal/src/files/energiebilanzen/pickles/indices.p\")\n",
    "indices_xlsx = Path(\"D:/_WORK/AEA/Projekte/bilanzen_monitor/enerbal/src/files/energiebilanzen/index/row_indices_eb.xlsx\")\n",
    "df = pd.read_excel(indices_xlsx, header=None, sheet_name=\"MIDX_RENEWABLES\")\n"
   ]
  },
  {
   "cell_type": "code",
   "execution_count": 3,
   "metadata": {},
   "outputs": [],
   "source": [
    "res_data = pickle.load(\n",
    "    open(res_file, \"rb\"))"
   ]
  },
  {
   "cell_type": "code",
   "execution_count": 4,
   "metadata": {},
   "outputs": [
    {
     "output_type": "error",
     "ename": "Error",
     "evalue": "KeyboardInterrupt",
     "traceback": [
      "Error: KeyboardInterrupt",
      "at C.parseConnectInfo (c:\\Users\\W\\.vscode\\extensions\\ms-python.python-2020.7.94776\\out\\client\\extension.js:48:412943)",
      "at C.connectToLocal (c:\\Users\\W\\.vscode\\extensions\\ms-python.python-2020.7.94776\\out\\client\\extension.js:48:413524)",
      "at runMicrotasks (<anonymous>)",
      "at processTicksAndRejections (internal/process/task_queues.js:85:5)",
      "at async C.connect (c:\\Users\\W\\.vscode\\extensions\\ms-python.python-2020.7.94776\\out\\client\\extension.js:48:409113)",
      "at async C.startDebugSession (c:\\Users\\W\\.vscode\\extensions\\ms-python.python-2020.7.94776\\out\\client\\extension.js:48:408111)",
      "at async P.submitCode (c:\\Users\\W\\.vscode\\extensions\\ms-python.python-2020.7.94776\\out\\client\\extension.js:24:453964)",
      "at async P.handleRunByLine (c:\\Users\\W\\.vscode\\extensions\\ms-python.python-2020.7.94776\\out\\client\\extension.js:24:442141)"
     ]
    }
   ],
   "source": [
    "res_data.index"
   ]
  },
  {
   "cell_type": "code",
   "execution_count": 4,
   "metadata": {},
   "outputs": [],
   "source": [
    "_provinces = [\"Wie\"]\n",
    "# _energy_sources = [\":\"]\n",
    "_years=[2000,2001]"
   ]
  },
  {
   "cell_type": "code",
   "execution_count": 6,
   "metadata": {},
   "outputs": [],
   "source": [
    "data_1 = res_data.loc[\n",
    "    IDX[:, :, :, :, :], IDX[\"Wie\", 1990]\n",
    "]"
   ]
  },
  {
   "cell_type": "code",
   "execution_count": 12,
   "metadata": {},
   "outputs": [],
   "source": [
    "res_data.index = renewables_row_midx"
   ]
  },
  {
   "cell_type": "code",
   "execution_count": 10,
   "metadata": {},
   "outputs": [],
   "source": [
    "# _____________________________________________________ EEV ROW MULTI INDEX\n",
    "\n",
    "# Create a row muliindex with 5 levels for the EEV data\n",
    "\n",
    "\n",
    "# _____________________________________________________ EEV ROW MULTI INDEX\n",
    "\n",
    "# Create a row muliindex with 5 levels for the renewable data\n",
    "\n",
    "renewables_row_midx = pd.MultiIndex.from_tuples(\n",
    "    tuples=[tuple(x) for x in df.loc[:,:2].values],\n",
    "    names=[\"IDX_0\", \"IDX_1\", \"IDX_2\"],\n",
    ")"
   ]
  },
  {
   "cell_type": "code",
   "execution_count": 13,
   "metadata": {},
   "outputs": [
    {
     "output_type": "execute_result",
     "data": {
      "text/plain": "MultiIndex([(           'Energetischer Endverbrauch Erneuerbare (TJ)', ...),\n            (           'Energetischer Endverbrauch Erneuerbare (TJ)', ...),\n            (           'Energetischer Endverbrauch Erneuerbare (TJ)', ...),\n            (           'Energetischer Endverbrauch Erneuerbare (TJ)', ...),\n            (           'Energetischer Endverbrauch Erneuerbare (TJ)', ...),\n            (           'Energetischer Endverbrauch Erneuerbare (TJ)', ...),\n            (           'Energetischer Endverbrauch Erneuerbare (TJ)', ...),\n            (           'Energetischer Endverbrauch Erneuerbare (TJ)', ...),\n            (           'Energetischer Endverbrauch Erneuerbare (TJ)', ...),\n            (           'Energetischer Endverbrauch Erneuerbare (TJ)', ...),\n            (           'Energetischer Endverbrauch Erneuerbare (TJ)', ...),\n            (           'Energetischer Endverbrauch Erneuerbare (TJ)', ...),\n            (        'Elektrische Energie Produktion erneuerbar (TJ)', ...),\n            (        'Elektrische Energie Produktion erneuerbar (TJ)', ...),\n            (        'Elektrische Energie Produktion erneuerbar (TJ)', ...),\n            (        'Elektrische Energie Produktion erneuerbar (TJ)', ...),\n            (        'Elektrische Energie Produktion erneuerbar (TJ)', ...),\n            (        'Elektrische Energie Produktion erneuerbar (TJ)', ...),\n            (        'Elektrische Energie Produktion erneuerbar (TJ)', ...),\n            (        'Elektrische Energie Produktion erneuerbar (TJ)', ...),\n            (        'Elektrische Energie Produktion erneuerbar (TJ)', ...),\n            (        'Elektrische Energie Produktion erneuerbar (TJ)', ...),\n            (        'Elektrische Energie Produktion erneuerbar (TJ)', ...),\n            (        'Elektrische Energie Produktion erneuerbar (TJ)', ...),\n            (        'Elektrische Energie Produktion erneuerbar (TJ)', ...),\n            (        'Elektrische Energie Produktion erneuerbar (TJ)', ...),\n            (        'Elektrische Energie Produktion erneuerbar (TJ)', ...),\n            (        'Elektrische Energie Produktion erneuerbar (TJ)', ...),\n            (        'Elektrische Energie Produktion erneuerbar (TJ)', ...),\n            (        'Elektrische Energie Produktion erneuerbar (TJ)', ...),\n            (        'Elektrische Energie Produktion erneuerbar (TJ)', ...),\n            (        'Elektrische Energie Produktion erneuerbar (TJ)', ...),\n            (        'Elektrische Energie Produktion erneuerbar (TJ)', ...),\n            (        'Elektrische Energie Produktion erneuerbar (TJ)', ...),\n            (        'Elektrische Energie Produktion erneuerbar (TJ)', ...),\n            (        'Elektrische Energie Produktion erneuerbar (TJ)', ...),\n            (        'Elektrische Energie Produktion erneuerbar (TJ)', ...),\n            (                  'Fernwärme Produktion erneuerbar (TJ)', ...),\n            (                  'Fernwärme Produktion erneuerbar (TJ)', ...),\n            (                  'Fernwärme Produktion erneuerbar (TJ)', ...),\n            (                  'Fernwärme Produktion erneuerbar (TJ)', ...),\n            (                  'Fernwärme Produktion erneuerbar (TJ)', ...),\n            (                  'Fernwärme Produktion erneuerbar (TJ)', ...),\n            (                  'Fernwärme Produktion erneuerbar (TJ)', ...),\n            (                  'Fernwärme Produktion erneuerbar (TJ)', ...),\n            (                        'Anrechenbarer Erneuerbare (TJ)', ...),\n            (                       'Energetischer Endverbrauch (TJ)', ...),\n            (                         'Verbrauch Sektor Energie (TJ)', ...),\n            (                                         'Verluste (TJ)', ...),\n            (             'Verbrauch Sektor Energie im Hochofen (TJ)', ...),\n            (                                      'Denominator (TJ)', ...),\n            (             'Anteil anrechenbare Erneuerbare insgesamt', ...),\n            ('Anteil anrechenbare Erneuerbare Elektrizitätserzeugung', ...),\n            (    'Anteil anrechenbare Erneuerbare Fernwärmeerzeugung', ...),\n            (               'Anteil anrechenbare Erneuerbare Verkehr', ...),\n            (             'Anteil anrechenbare Erneuerbare Industrie', ...),\n            (      'Anteil anrechenbare Erneuerbare Dienstleistungen', ...),\n            (             'Anteil anrechenbare Erneuerbare Haushalte', ...),\n            (                     'Anteil Erneuerbare Landwirtschaft', ...),\n            (                             'Biokraftstoffe nachhaltig', ...),\n            (                                      'Strom erneuerbar', ...),\n            (                                          'Summe Zähler', ...),\n            (                                   'fossile Kraftstoffe', ...),\n            (                       'Biokraftstoffe Schiene & Straße', ...),\n            (                                     'Strom Landverkehr', ...),\n            (                                          'Summe Nenner', ...),\n            (                                                 'E-KFZ', ...)],\n           names=['IDX_0', 'IDX_1', 'IDX_2'])"
     },
     "metadata": {},
     "execution_count": 13
    }
   ],
   "source": [
    "res_data.index"
   ]
  },
  {
   "cell_type": "code",
   "execution_count": 15,
   "metadata": {},
   "outputs": [
    {
     "output_type": "error",
     "ename": "TypeError",
     "evalue": "an integer is required (got type _io.BufferedWriter)",
     "traceback": [
      "\u001b[1;31m---------------------------------------------------------------------------\u001b[0m",
      "\u001b[1;31mTypeError\u001b[0m                                 Traceback (most recent call last)",
      "\u001b[1;32m<ipython-input-15-057d0259f1f9>\u001b[0m in \u001b[0;36m<module>\u001b[1;34m\u001b[0m\n\u001b[1;32m----> 1\u001b[1;33m \u001b[0mpickle\u001b[0m\u001b[1;33m.\u001b[0m\u001b[0mdumps\u001b[0m\u001b[1;33m(\u001b[0m\u001b[0mres_data\u001b[0m\u001b[1;33m,\u001b[0m \u001b[0mopen\u001b[0m\u001b[1;33m(\u001b[0m\u001b[1;34m\"renewables_df.p\"\u001b[0m\u001b[1;33m,\u001b[0m \u001b[1;34m\"wb\"\u001b[0m\u001b[1;33m)\u001b[0m\u001b[1;33m)\u001b[0m\u001b[1;33m\u001b[0m\u001b[1;33m\u001b[0m\u001b[0m\n\u001b[0m",
      "\u001b[1;31mTypeError\u001b[0m: an integer is required (got type _io.BufferedWriter)"
     ]
    }
   ],
   "source": [
    "pickle.dump(res_data, open(\"renewables_df.p\", \"wb\"))"
   ]
  },
  {
   "cell_type": "code",
   "execution_count": null,
   "metadata": {},
   "outputs": [],
   "source": []
  }
 ]
}